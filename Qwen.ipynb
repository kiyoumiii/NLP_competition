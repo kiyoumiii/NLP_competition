{
 "cells": [
  {
   "cell_type": "code",
   "execution_count": 1,
   "metadata": {},
   "outputs": [
    {
     "name": "stderr",
     "output_type": "stream",
     "text": [
      "/home/xuhu/miniconda3/envs/qwen2/lib/python3.10/site-packages/tqdm/auto.py:21: TqdmWarning: IProgress not found. Please update jupyter and ipywidgets. See https://ipywidgets.readthedocs.io/en/stable/user_install.html\n",
      "  from .autonotebook import tqdm as notebook_tqdm\n",
      "Loading checkpoint shards: 100%|██████████| 4/4 [00:06<00:00,  1.70s/it]\n",
      "Special tokens have been added in the vocabulary, make sure the associated word embeddings are fine-tuned or trained.\n"
     ]
    }
   ],
   "source": [
    "import os\n",
    "os.environ['HF_ENDPOINT'] = 'https://hf-mirror.com'\n",
    "\n",
    "from transformers import AutoModelForCausalLM, AutoTokenizer\n",
    "device = \"cuda\" # the device to load the model onto\n",
    "\n",
    "# 预训练的开源大模型\n",
    "# model = AutoModelForCausalLM.from_pretrained(\n",
    "#     \"/mnt/data/xuhu/qwen/Qwen2-7B-Instruct\",\n",
    "#     torch_dtype=\"auto\",\n",
    "#     device_map=\"auto\"\n",
    "# )\n",
    "model = AutoModelForCausalLM.from_pretrained(\n",
    "    \"Qwen/Qwen2-7B-Instruct\",\n",
    "    torch_dtype=\"auto\",\n",
    "    device_map=\"auto\"\n",
    ")\n",
    "\n",
    "tokenizer = AutoTokenizer.from_pretrained(\"/mnt/data/xuhu/qwen/Qwen2-7B-Instruct\")"
   ]
  },
  {
   "cell_type": "code",
   "execution_count": 2,
   "metadata": {},
   "outputs": [],
   "source": [
    "import pandas as pd\n",
    "dc = pd.read_csv('../dataset/en-zh.dic', sep='\\t', header=None).set_index(0).to_dict()[1]\n",
    "\n",
    "from tqdm import tqdm\n",
    "lines = open('../dataset/test_en.txt').readlines()"
   ]
  },
  {
   "cell_type": "code",
   "execution_count": null,
   "metadata": {},
   "outputs": [],
   "source": [
    "result = []\n",
    "for line in tqdm(lines):\n",
    "    sp_words = [x for x in line.lower().split() if x in dc.keys()]\n",
    "    sp_words_meaning = [dc[x] for x in sp_words]\n",
    "\n",
    "    sp_prompt = '文章字符为：'\n",
    "    if len(sp_words) > 0:\n",
    "        for x, y in zip(sp_words, sp_words_meaning): \n",
    "            sp_prompt += f'{x} 翻译为 {y}; '\n",
    "    # 主要任务\n",
    "    messages = [\n",
    "        {\"role\": \"system\", \"content\": \"将英文翻译为中文，不要有其他输出，直接输出翻译后的文本。保留特殊单词的翻译。\"},\n",
    "    ]\n",
    "\n",
    "    # 人工的词典的规则\n",
    "    if len(sp_prompt) > 0:\n",
    "        messages.append({\"role\": \"user\", \"content\": sp_prompt})\n",
    "    messages.append({\"role\": \"user\", \"content\": f\"待翻译文本（从英文翻译为中文）：{line}\"})\n",
    "    \n",
    "    text = tokenizer.apply_chat_template(\n",
    "        messages,\n",
    "        tokenize=False,\n",
    "        add_generation_prompt=True\n",
    "    )\n",
    "    model_inputs = tokenizer([text], return_tensors=\"pt\").to(device)\n",
    "    \n",
    "    generated_ids = model.generate(\n",
    "        model_inputs.input_ids,\n",
    "        max_new_tokens=512\n",
    "    )\n",
    "    generated_ids = [\n",
    "        output_ids[len(input_ids):] for input_ids, output_ids in zip(model_inputs.input_ids, generated_ids)\n",
    "    ]\n",
    "    \n",
    "    result_line = tokenizer.batch_decode(generated_ids, skip_special_tokens=True)[0]\n",
    "    result.append(result_line)\n",
    "    \n",
    "with open('../results/qwen_submit.txt', 'w') as f:\n",
    "    for line in result:\n",
    "        line = line.strip().replace('\\n', '')\n",
    "        print(line)\n",
    "        f.write(line + '\\n')"
   ]
  },
  {
   "cell_type": "code",
   "execution_count": null,
   "metadata": {},
   "outputs": [],
   "source": []
  }
 ],
 "metadata": {
  "kernelspec": {
   "display_name": "qwen2",
   "language": "python",
   "name": "python3"
  },
  "language_info": {
   "codemirror_mode": {
    "name": "ipython",
    "version": 3
   },
   "file_extension": ".py",
   "mimetype": "text/x-python",
   "name": "python",
   "nbconvert_exporter": "python",
   "pygments_lexer": "ipython3",
   "version": "3.10.14"
  }
 },
 "nbformat": 4,
 "nbformat_minor": 2
}
